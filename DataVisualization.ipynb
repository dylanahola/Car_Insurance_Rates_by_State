{
  "nbformat": 4,
  "nbformat_minor": 0,
  "metadata": {
    "colab": {
      "name": "DataVisualization.ipynb",
      "provenance": [],
      "collapsed_sections": [],
      "authorship_tag": "ABX9TyNRxaJO1Pgk/M9lv0jySga0",
      "include_colab_link": true
    },
    "kernelspec": {
      "name": "python3",
      "display_name": "Python 3"
    },
    "language_info": {
      "name": "python"
    }
  },
  "cells": [
    {
      "cell_type": "markdown",
      "metadata": {
        "id": "view-in-github",
        "colab_type": "text"
      },
      "source": [
        "<a href=\"https://colab.research.google.com/github/dylanahola/Car_Insurance_Rates_by_State/blob/main/DataVisualization.ipynb\" target=\"_parent\"><img src=\"https://colab.research.google.com/assets/colab-badge.svg\" alt=\"Open In Colab\"/></a>"
      ]
    },
    {
      "cell_type": "code",
      "metadata": {
        "id": "QIlDzMFUoBoS",
        "colab": {
          "base_uri": "https://localhost:8080/"
        },
        "outputId": "8172e182-e2d8-4fd8-8016-89f739808b5b"
      },
      "source": [
        "from google.colab import drive \n",
        "drive.mount('/content/drive')"
      ],
      "execution_count": 7,
      "outputs": [
        {
          "output_type": "stream",
          "text": [
            "Drive already mounted at /content/drive; to attempt to forcibly remount, call drive.mount(\"/content/drive\", force_remount=True).\n"
          ],
          "name": "stdout"
        }
      ]
    },
    {
      "cell_type": "code",
      "metadata": {
        "id": "9Zc126dXoMan"
      },
      "source": [
        "import matplotlib.pyplot as plt\n",
        "import pandas as pd\n",
        "import numpy as np"
      ],
      "execution_count": 8,
      "outputs": []
    },
    {
      "cell_type": "code",
      "metadata": {
        "id": "M7STAPJ0o9Qh",
        "colab": {
          "base_uri": "https://localhost:8080/",
          "height": 204
        },
        "outputId": "00e8659c-3054-410e-aecb-4639c04320cf"
      },
      "source": [
        "filename = '/content/drive/MyDrive/Coding Dojo/Week 3/Cost_of_car_insurance_by_state (1).xlsx'\n",
        "insurance_df = pd.read_excel(filename)\n",
        "insurance_df.head()"
      ],
      "execution_count": 9,
      "outputs": [
        {
          "output_type": "execute_result",
          "data": {
            "text/html": [
              "<div>\n",
              "<style scoped>\n",
              "    .dataframe tbody tr th:only-of-type {\n",
              "        vertical-align: middle;\n",
              "    }\n",
              "\n",
              "    .dataframe tbody tr th {\n",
              "        vertical-align: top;\n",
              "    }\n",
              "\n",
              "    .dataframe thead th {\n",
              "        text-align: right;\n",
              "    }\n",
              "</style>\n",
              "<table border=\"1\" class=\"dataframe\">\n",
              "  <thead>\n",
              "    <tr style=\"text-align: right;\">\n",
              "      <th></th>\n",
              "      <th>Cost of auto insurance in each state</th>\n",
              "      <th>Unnamed: 1</th>\n",
              "      <th>Unnamed: 2</th>\n",
              "      <th>Unnamed: 3</th>\n",
              "      <th>Unnamed: 4</th>\n",
              "      <th>Unnamed: 5</th>\n",
              "    </tr>\n",
              "  </thead>\n",
              "  <tbody>\n",
              "    <tr>\n",
              "      <th>0</th>\n",
              "      <td>Rank</td>\n",
              "      <td>State</td>\n",
              "      <td>Full coverage</td>\n",
              "      <td>Minimum coverage</td>\n",
              "      <td>Difference</td>\n",
              "      <td>NaN</td>\n",
              "    </tr>\n",
              "    <tr>\n",
              "      <th>1</th>\n",
              "      <td>1</td>\n",
              "      <td>Michigan</td>\n",
              "      <td>8723</td>\n",
              "      <td>5282</td>\n",
              "      <td>3441</td>\n",
              "      <td>NaN</td>\n",
              "    </tr>\n",
              "    <tr>\n",
              "      <th>2</th>\n",
              "      <td>2</td>\n",
              "      <td>Rhode Island</td>\n",
              "      <td>3847</td>\n",
              "      <td>1589</td>\n",
              "      <td>2258</td>\n",
              "      <td>NaN</td>\n",
              "    </tr>\n",
              "    <tr>\n",
              "      <th>3</th>\n",
              "      <td>3</td>\n",
              "      <td>Louisiana</td>\n",
              "      <td>3525</td>\n",
              "      <td>1329</td>\n",
              "      <td>2196</td>\n",
              "      <td>NaN</td>\n",
              "    </tr>\n",
              "    <tr>\n",
              "      <th>4</th>\n",
              "      <td>4</td>\n",
              "      <td>Kentucky</td>\n",
              "      <td>3418</td>\n",
              "      <td>1338</td>\n",
              "      <td>2079</td>\n",
              "      <td>NaN</td>\n",
              "    </tr>\n",
              "  </tbody>\n",
              "</table>\n",
              "</div>"
            ],
            "text/plain": [
              "  Cost of auto insurance in each state    Unnamed: 1  ...  Unnamed: 4 Unnamed: 5\n",
              "0                                 Rank         State  ...  Difference        NaN\n",
              "1                                    1      Michigan  ...        3441        NaN\n",
              "2                                    2  Rhode Island  ...        2258        NaN\n",
              "3                                    3     Louisiana  ...        2196        NaN\n",
              "4                                    4      Kentucky  ...        2079        NaN\n",
              "\n",
              "[5 rows x 6 columns]"
            ]
          },
          "metadata": {
            "tags": []
          },
          "execution_count": 9
        }
      ]
    },
    {
      "cell_type": "code",
      "metadata": {
        "id": "hgj_pvTzpJ_y"
      },
      "source": [
        "insurance_df.drop(columns = 'Unnamed: 5', inplace = True)\n",
        "insurance_df.drop(columns = 'Cost of auto insurance in each state', inplace = True)"
      ],
      "execution_count": 10,
      "outputs": []
    },
    {
      "cell_type": "code",
      "metadata": {
        "id": "nfnARnrOtbEs",
        "colab": {
          "base_uri": "https://localhost:8080/"
        },
        "outputId": "833b770e-1be0-4c49-876c-51a10811c6bf"
      },
      "source": [
        "insurance_df.info()"
      ],
      "execution_count": 11,
      "outputs": [
        {
          "output_type": "stream",
          "text": [
            "<class 'pandas.core.frame.DataFrame'>\n",
            "RangeIndex: 52 entries, 0 to 51\n",
            "Data columns (total 4 columns):\n",
            " #   Column      Non-Null Count  Dtype \n",
            "---  ------      --------------  ----- \n",
            " 0   Unnamed: 1  52 non-null     object\n",
            " 1   Unnamed: 2  52 non-null     object\n",
            " 2   Unnamed: 3  52 non-null     object\n",
            " 3   Unnamed: 4  52 non-null     object\n",
            "dtypes: object(4)\n",
            "memory usage: 1.8+ KB\n"
          ],
          "name": "stdout"
        }
      ]
    },
    {
      "cell_type": "code",
      "metadata": {
        "id": "eF8AEAhAtxLA",
        "colab": {
          "base_uri": "https://localhost:8080/",
          "height": 204
        },
        "outputId": "670e0371-a64b-45d5-b7a9-b96dd0cf861e"
      },
      "source": [
        "insurance_df.head()"
      ],
      "execution_count": 12,
      "outputs": [
        {
          "output_type": "execute_result",
          "data": {
            "text/html": [
              "<div>\n",
              "<style scoped>\n",
              "    .dataframe tbody tr th:only-of-type {\n",
              "        vertical-align: middle;\n",
              "    }\n",
              "\n",
              "    .dataframe tbody tr th {\n",
              "        vertical-align: top;\n",
              "    }\n",
              "\n",
              "    .dataframe thead th {\n",
              "        text-align: right;\n",
              "    }\n",
              "</style>\n",
              "<table border=\"1\" class=\"dataframe\">\n",
              "  <thead>\n",
              "    <tr style=\"text-align: right;\">\n",
              "      <th></th>\n",
              "      <th>Unnamed: 1</th>\n",
              "      <th>Unnamed: 2</th>\n",
              "      <th>Unnamed: 3</th>\n",
              "      <th>Unnamed: 4</th>\n",
              "    </tr>\n",
              "  </thead>\n",
              "  <tbody>\n",
              "    <tr>\n",
              "      <th>0</th>\n",
              "      <td>State</td>\n",
              "      <td>Full coverage</td>\n",
              "      <td>Minimum coverage</td>\n",
              "      <td>Difference</td>\n",
              "    </tr>\n",
              "    <tr>\n",
              "      <th>1</th>\n",
              "      <td>Michigan</td>\n",
              "      <td>8723</td>\n",
              "      <td>5282</td>\n",
              "      <td>3441</td>\n",
              "    </tr>\n",
              "    <tr>\n",
              "      <th>2</th>\n",
              "      <td>Rhode Island</td>\n",
              "      <td>3847</td>\n",
              "      <td>1589</td>\n",
              "      <td>2258</td>\n",
              "    </tr>\n",
              "    <tr>\n",
              "      <th>3</th>\n",
              "      <td>Louisiana</td>\n",
              "      <td>3525</td>\n",
              "      <td>1329</td>\n",
              "      <td>2196</td>\n",
              "    </tr>\n",
              "    <tr>\n",
              "      <th>4</th>\n",
              "      <td>Kentucky</td>\n",
              "      <td>3418</td>\n",
              "      <td>1338</td>\n",
              "      <td>2079</td>\n",
              "    </tr>\n",
              "  </tbody>\n",
              "</table>\n",
              "</div>"
            ],
            "text/plain": [
              "     Unnamed: 1     Unnamed: 2        Unnamed: 3  Unnamed: 4\n",
              "0         State  Full coverage  Minimum coverage  Difference\n",
              "1      Michigan           8723              5282        3441\n",
              "2  Rhode Island           3847              1589        2258\n",
              "3     Louisiana           3525              1329        2196\n",
              "4      Kentucky           3418              1338        2079"
            ]
          },
          "metadata": {
            "tags": []
          },
          "execution_count": 12
        }
      ]
    },
    {
      "cell_type": "code",
      "metadata": {
        "id": "_uHiPHmxuEQ0"
      },
      "source": [
        "insurance_df.dropna(inplace=True)"
      ],
      "execution_count": 13,
      "outputs": []
    },
    {
      "cell_type": "code",
      "metadata": {
        "id": "khKxcnaUumQZ"
      },
      "source": [
        "#I needed a refresher on dropping rows from a dataset so I referenced this site for help. (https://chrisalbon.com/python/data_wrangling/pandas_dropping_column_and_rows/)\n",
        "insurance_df.drop(insurance_df.index[0], inplace = True)"
      ],
      "execution_count": 14,
      "outputs": []
    },
    {
      "cell_type": "code",
      "metadata": {
        "id": "oJUJpxEAvIHl"
      },
      "source": [
        "insurance_df = insurance_df.rename(columns = {'Unnamed: 1': 'State', 'Unnamed: 2': 'Full Coverage','Unnamed: 3': 'Minimum Coverage','Unnamed: 4':'Difference'})"
      ],
      "execution_count": 15,
      "outputs": []
    },
    {
      "cell_type": "code",
      "metadata": {
        "id": "iFqxWs22wXxq"
      },
      "source": [
        "insurance_df"
      ],
      "execution_count": null,
      "outputs": []
    },
    {
      "cell_type": "code",
      "metadata": {
        "id": "rVF7YfhPwddp"
      },
      "source": [
        "state = insurance_df['State']\n",
        "mincoverage = insurance_df['Minimum Coverage']\n",
        "fullcoverage = insurance_df['Full Coverage']\n",
        "difference = insurance_df['Difference']\n"
      ],
      "execution_count": 17,
      "outputs": []
    },
    {
      "cell_type": "code",
      "metadata": {
        "id": "NYEWpVpN0Ij3"
      },
      "source": [
        "insurance_df['Full Coverage']\n",
        "filtered_df = insurance_df['State']\n",
        "filtered_df"
      ],
      "execution_count": null,
      "outputs": []
    },
    {
      "cell_type": "code",
      "metadata": {
        "id": "HpqVbgnVGP4i"
      },
      "source": [
        "top20costs = fullcoverage.values[31:51]"
      ],
      "execution_count": 19,
      "outputs": []
    },
    {
      "cell_type": "code",
      "metadata": {
        "id": "-GMlx8Js1Vp4"
      },
      "source": [
        "top20state = state.values[31:51]\n",
        "top20state"
      ],
      "execution_count": null,
      "outputs": []
    },
    {
      "cell_type": "code",
      "metadata": {
        "id": "Jdag2aElxA5V"
      },
      "source": [
        "plt.bar(top20state, top20costs);\n",
        "plt.style.available\n",
        "plt.style.use('seaborn');\n",
        "plt.xticks(rotation = 90);\n",
        "plt.xlabel('States', fontsize = 16);\n",
        "plt.ylabel('Cost of Full Coverage in Dollars', fontsize = 16);\n",
        "plt.title('20 States with the Most Affordable Full Coverage Insurance', fontsize = 16);\n",
        "plt.ylim(bottom= 1000, top = 2100)"
      ],
      "execution_count": null,
      "outputs": []
    },
    {
      "cell_type": "code",
      "metadata": {
        "id": "NVo59xmVIsEe"
      },
      "source": [
        ""
      ],
      "execution_count": null,
      "outputs": []
    }
  ]
}